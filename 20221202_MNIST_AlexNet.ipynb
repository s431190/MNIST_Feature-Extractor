{
 "cells": [
  {
   "cell_type": "markdown",
   "id": "9cd00283",
   "metadata": {},
   "source": [
    "# MNIST & AlexNet implementation\n",
    "AlexNet是一個卷積神經網路，由亞歷克斯·克里澤夫斯基（Alex Krizhevsky）設計，與伊爾亞‧蘇茨克維（Ilya Sutskever）和克里澤夫斯基的博士導師傑弗里·辛頓共同發表，而辛頓最初抵制他的學生的想法。\n",
    "\n",
    "AlexNet參加了2012年9月30日舉行的ImageNet大規模視覺辨識挑戰賽，達到最低的15.3%的Top-5錯誤率，比第二名低10.8個百分點。原論文的主要結論是，模型的深度對於提高效能至關重要，AlexNet的計算成本很高，但因在訓練過程中使用了圖形處理器（GPU）而使得計算具有可行性。\n",
    "\n",
    "<center><img src=\"https://miro.medium.com/max/720/0*x-qsIInLP6pOMjVv\" width=\"75%\" height=\"75%\"/></center>"
   ]
  },
  {
   "cell_type": "code",
   "execution_count": 1,
   "id": "e3709e14",
   "metadata": {},
   "outputs": [],
   "source": [
    "import numpy as np\n",
    "import torch\n",
    "from torch import nn\n",
    "from torchvision import datasets\n",
    "from torchvision import transforms\n",
    "from torch.utils.data import DataLoader\n",
    "# change the max. print value\n",
    "np.set_printoptions(threshold=1000000, suppress=True)"
   ]
  },
  {
   "cell_type": "code",
   "execution_count": 2,
   "id": "5de38649",
   "metadata": {},
   "outputs": [],
   "source": [
    "# 固定亂數種子\n",
    "torch.manual_seed(1)\n",
    "torch.cuda.manual_seed_all(1)"
   ]
  },
  {
   "cell_type": "code",
   "execution_count": 3,
   "id": "d2bc9a47",
   "metadata": {},
   "outputs": [],
   "source": [
    "# 數據預處理\n",
    "transform = transforms.Compose([\n",
    "#     transforms.RandomResizedCrop(224),# 對圖像進行隨機裁減\n",
    "#     transforms.RandomRotation(20),# 對圖像進行隨機旋轉\n",
    "#     transforms.RandomHorizontalFlip(p=0.5),# 對圖像進行隨機水平翻轉\n",
    "    transforms.Grayscale(num_output_channels=1),\n",
    "    transforms.ToTensor()# 變成tensor格式\n",
    "#     transforms.Normalize(\n",
    "#         mean=[0.485, 0.456, 0.406],\n",
    "#         std=[0.229, 0.224, 0.225])\n",
    "]) # 數據增強\n",
    "\n",
    "# 讀取數據\n",
    "root = \"./data/custom/MNIST\"\n",
    "train_data = datasets.ImageFolder(root + \"/train\",transform)\n",
    "test_data = datasets.ImageFolder(root + \"/test\",transform)"
   ]
  },
  {
   "cell_type": "code",
   "execution_count": 4,
   "id": "93d17513",
   "metadata": {},
   "outputs": [],
   "source": [
    "batch_size = 256\n",
    "train_dataloader = DataLoader(dataset=train_data, batch_size=batch_size, shuffle=True)\n",
    "test_dataloader = DataLoader(dataset=test_data, batch_size=batch_size, shuffle=True)\n",
    "feature_dataloader = DataLoader(dataset=train_data, batch_size=batch_size, shuffle=False)"
   ]
  },
  {
   "cell_type": "code",
   "execution_count": 5,
   "id": "7819ce73",
   "metadata": {},
   "outputs": [
    {
     "name": "stdout",
     "output_type": "stream",
     "text": [
      "['0', '1', '2', '3', '4', '5', '6', '7', '8', '9']\n",
      "{'0': 0, '1': 1, '2': 2, '3': 3, '4': 4, '5': 5, '6': 6, '7': 7, '8': 8, '9': 9}\n"
     ]
    }
   ],
   "source": [
    "classes = train_data.classes\n",
    "classes_index = train_data.class_to_idx\n",
    "print(classes)\n",
    "print(classes_index)"
   ]
  },
  {
   "cell_type": "code",
   "execution_count": 6,
   "id": "27b9b30a",
   "metadata": {},
   "outputs": [
    {
     "name": "stdout",
     "output_type": "stream",
     "text": [
      "Using cuda device\n"
     ]
    }
   ],
   "source": [
    "# 測試CUDA能否使用\n",
    "device = \"cuda\" if torch.cuda.is_available() else \"cpu\"\n",
    "print(f\"Using {device} device\")"
   ]
  },
  {
   "cell_type": "code",
   "execution_count": 7,
   "id": "df1fbace",
   "metadata": {},
   "outputs": [
    {
     "name": "stdout",
     "output_type": "stream",
     "text": [
      "Shape of X [N, C, H, W]: torch.Size([256, 1, 28, 28])\n",
      "Shape of y: torch.Size([256]) torch.int64\n"
     ]
    }
   ],
   "source": [
    "# 轉換成CUDA能讀的格式\n",
    "# generate data in parallel with PyTorch\n",
    "for X, y in test_dataloader:\n",
    "    print(f\"Shape of X [N, C, H, W]: {X.shape}\")\n",
    "    print(f\"Shape of y: {y.shape} {y.dtype}\")\n",
    "    break"
   ]
  },
  {
   "cell_type": "code",
   "execution_count": 8,
   "id": "d1c6a586",
   "metadata": {},
   "outputs": [],
   "source": [
    "class AlexNet(nn.Module):   \n",
    "    def __init__(self):\n",
    "        super(AlexNet, self).__init__()\n",
    "        self.features = nn.Sequential(\n",
    "            nn.Conv2d(1, 32, kernel_size=5, stride=1, padding=1),\n",
    "            nn.ReLU(inplace=True), \n",
    "            nn.Conv2d(32, 64, kernel_size=3, padding=1),\n",
    "            nn.ReLU(inplace=True),   \n",
    "            nn.MaxPool2d( kernel_size=2, stride=2),\n",
    "            nn.Conv2d(64, 96, kernel_size=3, padding=1),\n",
    "            nn.ReLU(inplace=True),                         \n",
    "            nn.Conv2d(96, 64, kernel_size=3, padding=1),\n",
    "            nn.ReLU(inplace=True),                         \n",
    "            nn.Conv2d(64, 32, kernel_size=3, padding=1),\n",
    "            nn.ReLU(inplace=True),\n",
    "            nn.MaxPool2d( kernel_size=2, stride=1),\n",
    "        )\n",
    "        self.classifier = nn.Sequential(\n",
    "            nn.Dropout(),\n",
    "            nn.Linear(32*12*12,2048),\n",
    "            nn.ReLU(inplace=True),\n",
    "            nn.Dropout(),\n",
    "            nn.Linear(2048,1024),\n",
    "            nn.ReLU(inplace=True),\n",
    "            nn.Linear(1024,10),\n",
    "        )\n",
    "    \n",
    "    def forward(self, x):\n",
    "\n",
    "        x = self.features(x)\n",
    "        x = x.view(x.size()[0],-1)\n",
    "        x = self.classifier(x)\n",
    "        return x"
   ]
  },
  {
   "cell_type": "code",
   "execution_count": 9,
   "id": "0879edbf",
   "metadata": {},
   "outputs": [],
   "source": [
    "class FeatureExtractor(nn.Module):\n",
    "    def __init__(self, model):\n",
    "        super(FeatureExtractor, self).__init__()\n",
    "        # Extract Net Feature Layers\n",
    "        self.features = list(model.features)\n",
    "        self.features = nn.Sequential(*self.features)\n",
    "        # Convert the image into one-dimensional vector\n",
    "        self.flatten = nn.Flatten()\n",
    "        # Extract the first part of fully-connected layer from Net\n",
    "        self.fc = model.classifier[1]\n",
    "    def forward(self, x):\n",
    "        # It will take the input 'x' until it returns the feature vector called 'out'\n",
    "        out = self.features(x)\n",
    "        out = self.flatten(out)\n",
    "        out = self.fc(out) \n",
    "        return out \n",
    "\n",
    "# Initialize the model\n",
    "model = AlexNet().to(device)\n",
    "new_model = FeatureExtractor(model)\n",
    "\n",
    "# Change the device to GPU\n",
    "device = torch.device('cuda:0' if torch.cuda.is_available() else \"cpu\")\n",
    "new_model = new_model.to(device)"
   ]
  },
  {
   "cell_type": "code",
   "execution_count": 10,
   "id": "2074e374",
   "metadata": {},
   "outputs": [
    {
     "data": {
      "text/plain": [
       "AlexNet(\n",
       "  (features): Sequential(\n",
       "    (0): Conv2d(1, 32, kernel_size=(5, 5), stride=(1, 1), padding=(1, 1))\n",
       "    (1): ReLU(inplace=True)\n",
       "    (2): Conv2d(32, 64, kernel_size=(3, 3), stride=(1, 1), padding=(1, 1))\n",
       "    (3): ReLU(inplace=True)\n",
       "    (4): MaxPool2d(kernel_size=2, stride=2, padding=0, dilation=1, ceil_mode=False)\n",
       "    (5): Conv2d(64, 96, kernel_size=(3, 3), stride=(1, 1), padding=(1, 1))\n",
       "    (6): ReLU(inplace=True)\n",
       "    (7): Conv2d(96, 64, kernel_size=(3, 3), stride=(1, 1), padding=(1, 1))\n",
       "    (8): ReLU(inplace=True)\n",
       "    (9): Conv2d(64, 32, kernel_size=(3, 3), stride=(1, 1), padding=(1, 1))\n",
       "    (10): ReLU(inplace=True)\n",
       "    (11): MaxPool2d(kernel_size=2, stride=1, padding=0, dilation=1, ceil_mode=False)\n",
       "  )\n",
       "  (classifier): Sequential(\n",
       "    (0): Dropout(p=0.5, inplace=False)\n",
       "    (1): Linear(in_features=4608, out_features=2048, bias=True)\n",
       "    (2): ReLU(inplace=True)\n",
       "    (3): Dropout(p=0.5, inplace=False)\n",
       "    (4): Linear(in_features=2048, out_features=1024, bias=True)\n",
       "    (5): ReLU(inplace=True)\n",
       "    (6): Linear(in_features=1024, out_features=10, bias=True)\n",
       "  )\n",
       ")"
      ]
     },
     "execution_count": 10,
     "metadata": {},
     "output_type": "execute_result"
    }
   ],
   "source": [
    "model"
   ]
  },
  {
   "cell_type": "code",
   "execution_count": 11,
   "id": "08b1cd0c",
   "metadata": {},
   "outputs": [
    {
     "data": {
      "text/plain": [
       "FeatureExtractor(\n",
       "  (features): Sequential(\n",
       "    (0): Conv2d(1, 32, kernel_size=(5, 5), stride=(1, 1), padding=(1, 1))\n",
       "    (1): ReLU(inplace=True)\n",
       "    (2): Conv2d(32, 64, kernel_size=(3, 3), stride=(1, 1), padding=(1, 1))\n",
       "    (3): ReLU(inplace=True)\n",
       "    (4): MaxPool2d(kernel_size=2, stride=2, padding=0, dilation=1, ceil_mode=False)\n",
       "    (5): Conv2d(64, 96, kernel_size=(3, 3), stride=(1, 1), padding=(1, 1))\n",
       "    (6): ReLU(inplace=True)\n",
       "    (7): Conv2d(96, 64, kernel_size=(3, 3), stride=(1, 1), padding=(1, 1))\n",
       "    (8): ReLU(inplace=True)\n",
       "    (9): Conv2d(64, 32, kernel_size=(3, 3), stride=(1, 1), padding=(1, 1))\n",
       "    (10): ReLU(inplace=True)\n",
       "    (11): MaxPool2d(kernel_size=2, stride=1, padding=0, dilation=1, ceil_mode=False)\n",
       "  )\n",
       "  (flatten): Flatten(start_dim=1, end_dim=-1)\n",
       "  (fc): Linear(in_features=4608, out_features=2048, bias=True)\n",
       ")"
      ]
     },
     "execution_count": 11,
     "metadata": {},
     "output_type": "execute_result"
    }
   ],
   "source": [
    "new_model"
   ]
  },
  {
   "cell_type": "code",
   "execution_count": 12,
   "id": "910226a6",
   "metadata": {},
   "outputs": [
    {
     "name": "stdout",
     "output_type": "stream",
     "text": [
      "Feature Extractor: [    0/60000]\n",
      "Feature Extractor: [25600/60000]\n",
      "Feature Extractor: [51200/60000]\n"
     ]
    }
   ],
   "source": [
    "features = []\n",
    "step = 64\n",
    "size = len(feature_dataloader.dataset)\n",
    "model.train()\n",
    "for batch, (X, y) in enumerate(feature_dataloader):\n",
    "    X = X.to(device)# 讀圖片跟labels\n",
    "    # Systematic Sampling\n",
    "    sX = X[:len(X)-1:step]\n",
    "    model.eval() # 測試模式，不做反向傳播\n",
    "    with torch.no_grad(): # 不需要計算梯度\n",
    "     # Compute prediction error\n",
    "        feature = new_model(sX)\n",
    "    if batch % 100 == 0: # 顯示進度條\n",
    "        current = batch * len(X)\n",
    "        print(f\"Feature Extractor: [{current:>5d}/{size:>5d}]\")   \n",
    "    # Convert to NumPy Array, Reshape it, and save it to features variabl\n",
    "    features.append(feature.cpu().detach().numpy())    "
   ]
  },
  {
   "cell_type": "code",
   "execution_count": 13,
   "id": "c4758b35",
   "metadata": {},
   "outputs": [],
   "source": [
    "# Convert to NumPy Array\n",
    "# 由於資料室不規則numpy因此會報錯，這裡因美觀我把它關掉\n",
    "np.warnings.filterwarnings('ignore', category = np.VisibleDeprecationWarning)\n",
    "featuresdata = np.array(features)"
   ]
  },
  {
   "cell_type": "code",
   "execution_count": 14,
   "id": "dd0d6c4c",
   "metadata": {},
   "outputs": [],
   "source": [
    "# 因為資料不平整，要用此方法去處理成一維numpy\n",
    "import itertools\n",
    "featureslist =list(itertools.chain(*featuresdata))"
   ]
  },
  {
   "cell_type": "code",
   "execution_count": 15,
   "id": "6e4444e8",
   "metadata": {},
   "outputs": [
    {
     "name": "stdout",
     "output_type": "stream",
     "text": [
      "Theoretical Value: 938\n",
      "Actual value: 938\n"
     ]
    }
   ],
   "source": [
    "# 驗證輸出的資料量是否正確\n",
    "# print(f\"batch_size/step: {batch_size/step}\",f\"\\n\")\n",
    "# print(f\"batch[0]: \",len(featuresdata[0]))\n",
    "print(f\"Theoretical Value: {len(featuresdata[0]) * (len(featuresdata)-1) + len(featuresdata[234])}\" )\n",
    "print(f\"Actual value: {len(featureslist)}\")"
   ]
  },
  {
   "cell_type": "code",
   "execution_count": 16,
   "id": "7296cc4a",
   "metadata": {},
   "outputs": [
    {
     "name": "stdout",
     "output_type": "stream",
     "text": [
      "Theoretical out_features: 2048\n",
      "Actual out_features: 2048\n"
     ]
    }
   ],
   "source": [
    "print(\"Theoretical out_features: 2048\")\n",
    "print(f\"Actual out_features: {len(featureslist[0])}\")"
   ]
  },
  {
   "cell_type": "code",
   "execution_count": 17,
   "id": "cc555b5d",
   "metadata": {},
   "outputs": [],
   "source": [
    "#...Rnnking 2048 * 938"
   ]
  },
  {
   "cell_type": "code",
   "execution_count": null,
   "id": "3553d746",
   "metadata": {},
   "outputs": [],
   "source": []
  },
  {
   "cell_type": "code",
   "execution_count": null,
   "id": "b0369772",
   "metadata": {},
   "outputs": [],
   "source": []
  },
  {
   "cell_type": "code",
   "execution_count": null,
   "id": "8cc6dbba",
   "metadata": {},
   "outputs": [],
   "source": []
  },
  {
   "cell_type": "code",
   "execution_count": null,
   "id": "d0fb9125",
   "metadata": {},
   "outputs": [],
   "source": []
  },
  {
   "cell_type": "code",
   "execution_count": null,
   "id": "780cc906",
   "metadata": {},
   "outputs": [],
   "source": []
  },
  {
   "cell_type": "code",
   "execution_count": 18,
   "id": "f0eb4d94",
   "metadata": {},
   "outputs": [],
   "source": [
    "lr = 1e-3\n",
    "loss_fn = nn.CrossEntropyLoss()\n",
    "optimizer = torch.optim.Adam(model.parameters(), lr=lr)\n",
    "\n",
    "def train(dataloader, model, loss_fn, optimizer):\n",
    "    size = len(dataloader.dataset)\n",
    "    model.train()\n",
    "    for batch, (X, y) in enumerate(dataloader):\n",
    "        X, y = X.to(device), y.to(device)\n",
    "\n",
    "        # Compute prediction error\n",
    "        pred = model(X)\n",
    "        loss = loss_fn(pred, y)\n",
    "\n",
    "        # Backpropagation\n",
    "        optimizer.zero_grad()\n",
    "        loss.backward()\n",
    "        optimizer.step()\n",
    "\n",
    "        if batch % 100 == 0:\n",
    "            loss, current = loss.item(), batch * len(X)\n",
    "            print(f\"loss: {loss:>7f}  [{current:>5d}/{size:>5d}]\")\n",
    "\n",
    "def test(dataloader, model, loss_fn):\n",
    "    size = len(dataloader.dataset)\n",
    "    num_batches = len(dataloader)\n",
    "    model.eval()\n",
    "    test_loss, correct = 0, 0\n",
    "    with torch.no_grad():\n",
    "        for X, y in dataloader:\n",
    "            X, y = X.to(device), y.to(device)\n",
    "            pred = model(X)\n",
    "            test_loss += loss_fn(pred, y).item()\n",
    "            correct += (pred.argmax(1) == y).type(torch.float).sum().item()\n",
    "    test_loss /= num_batches\n",
    "    correct /= size\n",
    "    print(f\"Test Error: \\n Accuracy: {(100*correct):>0.1f}%, Avg loss: {test_loss:>8f} \\n\")"
   ]
  },
  {
   "cell_type": "code",
   "execution_count": 19,
   "id": "bd01d170",
   "metadata": {},
   "outputs": [
    {
     "name": "stdout",
     "output_type": "stream",
     "text": [
      "Epoch 1\n",
      "-------------------------------\n",
      "loss: 2.304650  [    0/60000]\n",
      "loss: 0.067202  [25600/60000]\n",
      "loss: 0.069229  [51200/60000]\n",
      "Test Error: \n",
      " Accuracy: 98.6%, Avg loss: 0.051074 \n",
      "\n",
      "Epoch 2\n",
      "-------------------------------\n",
      "loss: 0.041422  [    0/60000]\n",
      "loss: 0.027505  [25600/60000]\n",
      "loss: 0.132680  [51200/60000]\n",
      "Test Error: \n",
      " Accuracy: 99.0%, Avg loss: 0.032668 \n",
      "\n",
      "Epoch 3\n",
      "-------------------------------\n",
      "loss: 0.016410  [    0/60000]\n",
      "loss: 0.066815  [25600/60000]\n",
      "loss: 0.048849  [51200/60000]\n",
      "Test Error: \n",
      " Accuracy: 99.2%, Avg loss: 0.025989 \n",
      "\n",
      "Epoch 4\n",
      "-------------------------------\n",
      "loss: 0.023878  [    0/60000]\n",
      "loss: 0.021808  [25600/60000]\n",
      "loss: 0.046209  [51200/60000]\n",
      "Test Error: \n",
      " Accuracy: 99.3%, Avg loss: 0.024488 \n",
      "\n",
      "Epoch 5\n",
      "-------------------------------\n",
      "loss: 0.022801  [    0/60000]\n",
      "loss: 0.006706  [25600/60000]\n",
      "loss: 0.036250  [51200/60000]\n",
      "Test Error: \n",
      " Accuracy: 99.3%, Avg loss: 0.021750 \n",
      "\n",
      "Epoch 6\n",
      "-------------------------------\n",
      "loss: 0.014515  [    0/60000]\n",
      "loss: 0.034874  [25600/60000]\n",
      "loss: 0.026897  [51200/60000]\n",
      "Test Error: \n",
      " Accuracy: 99.3%, Avg loss: 0.026842 \n",
      "\n",
      "Epoch 7\n",
      "-------------------------------\n",
      "loss: 0.022328  [    0/60000]\n",
      "loss: 0.017632  [25600/60000]\n",
      "loss: 0.009327  [51200/60000]\n",
      "Test Error: \n",
      " Accuracy: 99.5%, Avg loss: 0.016337 \n",
      "\n",
      "Epoch 8\n",
      "-------------------------------\n",
      "loss: 0.021678  [    0/60000]\n",
      "loss: 0.008703  [25600/60000]\n",
      "loss: 0.013180  [51200/60000]\n",
      "Test Error: \n",
      " Accuracy: 99.3%, Avg loss: 0.021378 \n",
      "\n",
      "Epoch 9\n",
      "-------------------------------\n",
      "loss: 0.042834  [    0/60000]\n",
      "loss: 0.002986  [25600/60000]\n",
      "loss: 0.026116  [51200/60000]\n",
      "Test Error: \n",
      " Accuracy: 99.6%, Avg loss: 0.014562 \n",
      "\n",
      "Epoch 10\n",
      "-------------------------------\n",
      "loss: 0.015960  [    0/60000]\n",
      "loss: 0.013686  [25600/60000]\n",
      "loss: 0.004917  [51200/60000]\n",
      "Test Error: \n",
      " Accuracy: 99.3%, Avg loss: 0.021744 \n",
      "\n",
      "Done!\n"
     ]
    }
   ],
   "source": [
    "epochs = 10\n",
    "for t in range(epochs):\n",
    "    print(f\"Epoch {t+1}\\n-------------------------------\")\n",
    "    train(train_dataloader, model, loss_fn, optimizer)\n",
    "    test(test_dataloader, model, loss_fn)\n",
    "print(\"Done!\")"
   ]
  },
  {
   "cell_type": "code",
   "execution_count": null,
   "id": "824f6bd9",
   "metadata": {},
   "outputs": [],
   "source": []
  }
 ],
 "metadata": {
  "kernelspec": {
   "display_name": "Python 3 (ipykernel)",
   "language": "python",
   "name": "python3"
  },
  "language_info": {
   "codemirror_mode": {
    "name": "ipython",
    "version": 3
   },
   "file_extension": ".py",
   "mimetype": "text/x-python",
   "name": "python",
   "nbconvert_exporter": "python",
   "pygments_lexer": "ipython3",
   "version": "3.8.15"
  }
 },
 "nbformat": 4,
 "nbformat_minor": 5
}
