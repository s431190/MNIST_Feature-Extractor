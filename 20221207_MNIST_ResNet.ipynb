{
 "cells": [
  {
   "cell_type": "markdown",
   "id": "9cd00283",
   "metadata": {},
   "source": [
    "# MNIST & ResNet18 implementation\n",
    "\n",
    "Notice: I add the activation function to the subsequent fc layer as the custom classifier.\n",
    "\n",
    "<center><img src=\"https://www.researchgate.net/profile/Sajid-Iqbal-13/publication/336642248/figure/fig1/AS:839151377203201@1577080687133/Original-ResNet-18-Architecture.png\" width=\"75%\" height=\"75%\"/></center>"
   ]
  },
  {
   "cell_type": "code",
   "execution_count": 1,
   "id": "e3709e14",
   "metadata": {},
   "outputs": [],
   "source": [
    "import numpy as np\n",
    "import torch\n",
    "from torch import nn\n",
    "import torchvision.models as models\n",
    "from torchvision import datasets\n",
    "from torchvision import transforms\n",
    "from torch.utils.data import DataLoader\n",
    "# change the max. print value\n",
    "np.set_printoptions(threshold=1000000, suppress=True)"
   ]
  },
  {
   "cell_type": "code",
   "execution_count": 2,
   "id": "5de38649",
   "metadata": {},
   "outputs": [],
   "source": [
    "# 固定亂數種子\n",
    "torch.manual_seed(1)\n",
    "torch.cuda.manual_seed_all(1)"
   ]
  },
  {
   "cell_type": "code",
   "execution_count": 3,
   "id": "d2bc9a47",
   "metadata": {},
   "outputs": [],
   "source": [
    "# 數據預處理\n",
    "transform = transforms.Compose([\n",
    "#     transforms.RandomResizedCrop(224),# 對圖像進行隨機裁減\n",
    "#     transforms.RandomRotation(20),# 對圖像進行隨機旋轉\n",
    "#     transforms.RandomHorizontalFlip(p=0.5),# 對圖像進行隨機水平翻轉\n",
    "#     transforms.Grayscale(num_output_channels=1),\n",
    "    transforms.Resize((224,224)),\n",
    "    transforms.ToTensor()# 變成tensor格式\n",
    "#     transforms.Normalize(\n",
    "#         mean=[0.485, 0.456, 0.406],\n",
    "#         std=[0.229, 0.224, 0.225])\n",
    "]) # 數據增強\n",
    "\n",
    "# 讀取數據\n",
    "root = \"./data/custom/MNIST\"\n",
    "train_data = datasets.ImageFolder(root + \"/train\",transform)\n",
    "test_data = datasets.ImageFolder(root + \"/test\",transform)"
   ]
  },
  {
   "cell_type": "code",
   "execution_count": 4,
   "id": "93d17513",
   "metadata": {},
   "outputs": [],
   "source": [
    "batch_size = 256\n",
    "train_dataloader = DataLoader(dataset=train_data, batch_size=batch_size, shuffle=True)\n",
    "test_dataloader = DataLoader(dataset=test_data, batch_size=batch_size, shuffle=True)\n",
    "feature_dataloader = DataLoader(dataset=train_data, batch_size=batch_size, shuffle=False)"
   ]
  },
  {
   "cell_type": "code",
   "execution_count": 5,
   "id": "7819ce73",
   "metadata": {},
   "outputs": [
    {
     "name": "stdout",
     "output_type": "stream",
     "text": [
      "['0', '1', '2', '3', '4', '5', '6', '7', '8', '9']\n",
      "{'0': 0, '1': 1, '2': 2, '3': 3, '4': 4, '5': 5, '6': 6, '7': 7, '8': 8, '9': 9}\n"
     ]
    }
   ],
   "source": [
    "classes = train_data.classes\n",
    "classes_index = train_data.class_to_idx\n",
    "print(classes)\n",
    "print(classes_index)"
   ]
  },
  {
   "cell_type": "code",
   "execution_count": 6,
   "id": "27b9b30a",
   "metadata": {},
   "outputs": [
    {
     "name": "stdout",
     "output_type": "stream",
     "text": [
      "Using cuda device\n"
     ]
    }
   ],
   "source": [
    "# 測試CUDA能否使用\n",
    "device = \"cuda\" if torch.cuda.is_available() else \"cpu\"\n",
    "print(f\"Using {device} device\")"
   ]
  },
  {
   "cell_type": "code",
   "execution_count": 7,
   "id": "df1fbace",
   "metadata": {},
   "outputs": [
    {
     "name": "stdout",
     "output_type": "stream",
     "text": [
      "Shape of X [N, C, H, W]: torch.Size([256, 3, 224, 224])\n",
      "Shape of y: torch.Size([256]) torch.int64\n"
     ]
    }
   ],
   "source": [
    "# 轉換成CUDA能讀的格式\n",
    "# generate data in parallel with PyTorch\n",
    "for X, y in test_dataloader:\n",
    "    print(f\"Shape of X [N, C, H, W]: {X.shape}\")\n",
    "    print(f\"Shape of y: {y.shape} {y.dtype}\")\n",
    "    break"
   ]
  },
  {
   "cell_type": "code",
   "execution_count": 8,
   "id": "f8b5a336",
   "metadata": {},
   "outputs": [
    {
     "data": {
      "text/plain": [
       "RN18_custom_classifier(\n",
       "  (model): ResNet(\n",
       "    (conv1): Conv2d(3, 64, kernel_size=(7, 7), stride=(2, 2), padding=(3, 3), bias=False)\n",
       "    (bn1): BatchNorm2d(64, eps=1e-05, momentum=0.1, affine=True, track_running_stats=True)\n",
       "    (relu): ReLU(inplace=True)\n",
       "    (maxpool): MaxPool2d(kernel_size=3, stride=2, padding=1, dilation=1, ceil_mode=False)\n",
       "    (layer1): Sequential(\n",
       "      (0): BasicBlock(\n",
       "        (conv1): Conv2d(64, 64, kernel_size=(3, 3), stride=(1, 1), padding=(1, 1), bias=False)\n",
       "        (bn1): BatchNorm2d(64, eps=1e-05, momentum=0.1, affine=True, track_running_stats=True)\n",
       "        (relu): ReLU(inplace=True)\n",
       "        (conv2): Conv2d(64, 64, kernel_size=(3, 3), stride=(1, 1), padding=(1, 1), bias=False)\n",
       "        (bn2): BatchNorm2d(64, eps=1e-05, momentum=0.1, affine=True, track_running_stats=True)\n",
       "      )\n",
       "      (1): BasicBlock(\n",
       "        (conv1): Conv2d(64, 64, kernel_size=(3, 3), stride=(1, 1), padding=(1, 1), bias=False)\n",
       "        (bn1): BatchNorm2d(64, eps=1e-05, momentum=0.1, affine=True, track_running_stats=True)\n",
       "        (relu): ReLU(inplace=True)\n",
       "        (conv2): Conv2d(64, 64, kernel_size=(3, 3), stride=(1, 1), padding=(1, 1), bias=False)\n",
       "        (bn2): BatchNorm2d(64, eps=1e-05, momentum=0.1, affine=True, track_running_stats=True)\n",
       "      )\n",
       "    )\n",
       "    (layer2): Sequential(\n",
       "      (0): BasicBlock(\n",
       "        (conv1): Conv2d(64, 128, kernel_size=(3, 3), stride=(2, 2), padding=(1, 1), bias=False)\n",
       "        (bn1): BatchNorm2d(128, eps=1e-05, momentum=0.1, affine=True, track_running_stats=True)\n",
       "        (relu): ReLU(inplace=True)\n",
       "        (conv2): Conv2d(128, 128, kernel_size=(3, 3), stride=(1, 1), padding=(1, 1), bias=False)\n",
       "        (bn2): BatchNorm2d(128, eps=1e-05, momentum=0.1, affine=True, track_running_stats=True)\n",
       "        (downsample): Sequential(\n",
       "          (0): Conv2d(64, 128, kernel_size=(1, 1), stride=(2, 2), bias=False)\n",
       "          (1): BatchNorm2d(128, eps=1e-05, momentum=0.1, affine=True, track_running_stats=True)\n",
       "        )\n",
       "      )\n",
       "      (1): BasicBlock(\n",
       "        (conv1): Conv2d(128, 128, kernel_size=(3, 3), stride=(1, 1), padding=(1, 1), bias=False)\n",
       "        (bn1): BatchNorm2d(128, eps=1e-05, momentum=0.1, affine=True, track_running_stats=True)\n",
       "        (relu): ReLU(inplace=True)\n",
       "        (conv2): Conv2d(128, 128, kernel_size=(3, 3), stride=(1, 1), padding=(1, 1), bias=False)\n",
       "        (bn2): BatchNorm2d(128, eps=1e-05, momentum=0.1, affine=True, track_running_stats=True)\n",
       "      )\n",
       "    )\n",
       "    (layer3): Sequential(\n",
       "      (0): BasicBlock(\n",
       "        (conv1): Conv2d(128, 256, kernel_size=(3, 3), stride=(2, 2), padding=(1, 1), bias=False)\n",
       "        (bn1): BatchNorm2d(256, eps=1e-05, momentum=0.1, affine=True, track_running_stats=True)\n",
       "        (relu): ReLU(inplace=True)\n",
       "        (conv2): Conv2d(256, 256, kernel_size=(3, 3), stride=(1, 1), padding=(1, 1), bias=False)\n",
       "        (bn2): BatchNorm2d(256, eps=1e-05, momentum=0.1, affine=True, track_running_stats=True)\n",
       "        (downsample): Sequential(\n",
       "          (0): Conv2d(128, 256, kernel_size=(1, 1), stride=(2, 2), bias=False)\n",
       "          (1): BatchNorm2d(256, eps=1e-05, momentum=0.1, affine=True, track_running_stats=True)\n",
       "        )\n",
       "      )\n",
       "      (1): BasicBlock(\n",
       "        (conv1): Conv2d(256, 256, kernel_size=(3, 3), stride=(1, 1), padding=(1, 1), bias=False)\n",
       "        (bn1): BatchNorm2d(256, eps=1e-05, momentum=0.1, affine=True, track_running_stats=True)\n",
       "        (relu): ReLU(inplace=True)\n",
       "        (conv2): Conv2d(256, 256, kernel_size=(3, 3), stride=(1, 1), padding=(1, 1), bias=False)\n",
       "        (bn2): BatchNorm2d(256, eps=1e-05, momentum=0.1, affine=True, track_running_stats=True)\n",
       "      )\n",
       "    )\n",
       "    (layer4): Sequential(\n",
       "      (0): BasicBlock(\n",
       "        (conv1): Conv2d(256, 512, kernel_size=(3, 3), stride=(2, 2), padding=(1, 1), bias=False)\n",
       "        (bn1): BatchNorm2d(512, eps=1e-05, momentum=0.1, affine=True, track_running_stats=True)\n",
       "        (relu): ReLU(inplace=True)\n",
       "        (conv2): Conv2d(512, 512, kernel_size=(3, 3), stride=(1, 1), padding=(1, 1), bias=False)\n",
       "        (bn2): BatchNorm2d(512, eps=1e-05, momentum=0.1, affine=True, track_running_stats=True)\n",
       "        (downsample): Sequential(\n",
       "          (0): Conv2d(256, 512, kernel_size=(1, 1), stride=(2, 2), bias=False)\n",
       "          (1): BatchNorm2d(512, eps=1e-05, momentum=0.1, affine=True, track_running_stats=True)\n",
       "        )\n",
       "      )\n",
       "      (1): BasicBlock(\n",
       "        (conv1): Conv2d(512, 512, kernel_size=(3, 3), stride=(1, 1), padding=(1, 1), bias=False)\n",
       "        (bn1): BatchNorm2d(512, eps=1e-05, momentum=0.1, affine=True, track_running_stats=True)\n",
       "        (relu): ReLU(inplace=True)\n",
       "        (conv2): Conv2d(512, 512, kernel_size=(3, 3), stride=(1, 1), padding=(1, 1), bias=False)\n",
       "        (bn2): BatchNorm2d(512, eps=1e-05, momentum=0.1, affine=True, track_running_stats=True)\n",
       "      )\n",
       "    )\n",
       "    (avgpool): AdaptiveAvgPool2d(output_size=(1, 1))\n",
       "    (fc): Sequential(\n",
       "      (0): Linear(in_features=512, out_features=120, bias=True)\n",
       "      (1): Sigmoid()\n",
       "      (2): Linear(in_features=120, out_features=84, bias=True)\n",
       "      (3): Sigmoid()\n",
       "      (4): Linear(in_features=84, out_features=10, bias=True)\n",
       "    )\n",
       "  )\n",
       ")"
      ]
     },
     "execution_count": 8,
     "metadata": {},
     "output_type": "execute_result"
    }
   ],
   "source": [
    "# 定義類神經網路模型\n",
    "class RN18_custom_classifier(nn.Module):\n",
    "    def __init__(self):\n",
    "        super(RN18_custom_classifier, self).__init__()\n",
    "        self.model = models.resnet18(pretrained=False)\n",
    "        self.model.fc = nn.Sequential() #將分類層置空，下面將改變我們的分類層\n",
    "        self.model.fc = nn.Sequential(\n",
    "            nn.Linear(512,120),\n",
    "            nn.Sigmoid(),\n",
    "            nn.Linear(120,84),\n",
    "            nn.Sigmoid(),\n",
    "            nn.Linear(84,10)\n",
    "        )\n",
    "    def forward(self, x):\n",
    "        out = self.model(x)\n",
    "        return out\n",
    "    \n",
    "model = RN18_custom_classifier().to(device)\n",
    "model"
   ]
  },
  {
   "cell_type": "code",
   "execution_count": 9,
   "id": "b9c96d7f",
   "metadata": {},
   "outputs": [
    {
     "data": {
      "text/plain": [
       "FeatureExtractor(\n",
       "  (model): ResNet(\n",
       "    (conv1): Conv2d(3, 64, kernel_size=(7, 7), stride=(2, 2), padding=(3, 3), bias=False)\n",
       "    (bn1): BatchNorm2d(64, eps=1e-05, momentum=0.1, affine=True, track_running_stats=True)\n",
       "    (relu): ReLU(inplace=True)\n",
       "    (maxpool): MaxPool2d(kernel_size=3, stride=2, padding=1, dilation=1, ceil_mode=False)\n",
       "    (layer1): Sequential(\n",
       "      (0): BasicBlock(\n",
       "        (conv1): Conv2d(64, 64, kernel_size=(3, 3), stride=(1, 1), padding=(1, 1), bias=False)\n",
       "        (bn1): BatchNorm2d(64, eps=1e-05, momentum=0.1, affine=True, track_running_stats=True)\n",
       "        (relu): ReLU(inplace=True)\n",
       "        (conv2): Conv2d(64, 64, kernel_size=(3, 3), stride=(1, 1), padding=(1, 1), bias=False)\n",
       "        (bn2): BatchNorm2d(64, eps=1e-05, momentum=0.1, affine=True, track_running_stats=True)\n",
       "      )\n",
       "      (1): BasicBlock(\n",
       "        (conv1): Conv2d(64, 64, kernel_size=(3, 3), stride=(1, 1), padding=(1, 1), bias=False)\n",
       "        (bn1): BatchNorm2d(64, eps=1e-05, momentum=0.1, affine=True, track_running_stats=True)\n",
       "        (relu): ReLU(inplace=True)\n",
       "        (conv2): Conv2d(64, 64, kernel_size=(3, 3), stride=(1, 1), padding=(1, 1), bias=False)\n",
       "        (bn2): BatchNorm2d(64, eps=1e-05, momentum=0.1, affine=True, track_running_stats=True)\n",
       "      )\n",
       "    )\n",
       "    (layer2): Sequential(\n",
       "      (0): BasicBlock(\n",
       "        (conv1): Conv2d(64, 128, kernel_size=(3, 3), stride=(2, 2), padding=(1, 1), bias=False)\n",
       "        (bn1): BatchNorm2d(128, eps=1e-05, momentum=0.1, affine=True, track_running_stats=True)\n",
       "        (relu): ReLU(inplace=True)\n",
       "        (conv2): Conv2d(128, 128, kernel_size=(3, 3), stride=(1, 1), padding=(1, 1), bias=False)\n",
       "        (bn2): BatchNorm2d(128, eps=1e-05, momentum=0.1, affine=True, track_running_stats=True)\n",
       "        (downsample): Sequential(\n",
       "          (0): Conv2d(64, 128, kernel_size=(1, 1), stride=(2, 2), bias=False)\n",
       "          (1): BatchNorm2d(128, eps=1e-05, momentum=0.1, affine=True, track_running_stats=True)\n",
       "        )\n",
       "      )\n",
       "      (1): BasicBlock(\n",
       "        (conv1): Conv2d(128, 128, kernel_size=(3, 3), stride=(1, 1), padding=(1, 1), bias=False)\n",
       "        (bn1): BatchNorm2d(128, eps=1e-05, momentum=0.1, affine=True, track_running_stats=True)\n",
       "        (relu): ReLU(inplace=True)\n",
       "        (conv2): Conv2d(128, 128, kernel_size=(3, 3), stride=(1, 1), padding=(1, 1), bias=False)\n",
       "        (bn2): BatchNorm2d(128, eps=1e-05, momentum=0.1, affine=True, track_running_stats=True)\n",
       "      )\n",
       "    )\n",
       "    (layer3): Sequential(\n",
       "      (0): BasicBlock(\n",
       "        (conv1): Conv2d(128, 256, kernel_size=(3, 3), stride=(2, 2), padding=(1, 1), bias=False)\n",
       "        (bn1): BatchNorm2d(256, eps=1e-05, momentum=0.1, affine=True, track_running_stats=True)\n",
       "        (relu): ReLU(inplace=True)\n",
       "        (conv2): Conv2d(256, 256, kernel_size=(3, 3), stride=(1, 1), padding=(1, 1), bias=False)\n",
       "        (bn2): BatchNorm2d(256, eps=1e-05, momentum=0.1, affine=True, track_running_stats=True)\n",
       "        (downsample): Sequential(\n",
       "          (0): Conv2d(128, 256, kernel_size=(1, 1), stride=(2, 2), bias=False)\n",
       "          (1): BatchNorm2d(256, eps=1e-05, momentum=0.1, affine=True, track_running_stats=True)\n",
       "        )\n",
       "      )\n",
       "      (1): BasicBlock(\n",
       "        (conv1): Conv2d(256, 256, kernel_size=(3, 3), stride=(1, 1), padding=(1, 1), bias=False)\n",
       "        (bn1): BatchNorm2d(256, eps=1e-05, momentum=0.1, affine=True, track_running_stats=True)\n",
       "        (relu): ReLU(inplace=True)\n",
       "        (conv2): Conv2d(256, 256, kernel_size=(3, 3), stride=(1, 1), padding=(1, 1), bias=False)\n",
       "        (bn2): BatchNorm2d(256, eps=1e-05, momentum=0.1, affine=True, track_running_stats=True)\n",
       "      )\n",
       "    )\n",
       "    (layer4): Sequential(\n",
       "      (0): BasicBlock(\n",
       "        (conv1): Conv2d(256, 512, kernel_size=(3, 3), stride=(2, 2), padding=(1, 1), bias=False)\n",
       "        (bn1): BatchNorm2d(512, eps=1e-05, momentum=0.1, affine=True, track_running_stats=True)\n",
       "        (relu): ReLU(inplace=True)\n",
       "        (conv2): Conv2d(512, 512, kernel_size=(3, 3), stride=(1, 1), padding=(1, 1), bias=False)\n",
       "        (bn2): BatchNorm2d(512, eps=1e-05, momentum=0.1, affine=True, track_running_stats=True)\n",
       "        (downsample): Sequential(\n",
       "          (0): Conv2d(256, 512, kernel_size=(1, 1), stride=(2, 2), bias=False)\n",
       "          (1): BatchNorm2d(512, eps=1e-05, momentum=0.1, affine=True, track_running_stats=True)\n",
       "        )\n",
       "      )\n",
       "      (1): BasicBlock(\n",
       "        (conv1): Conv2d(512, 512, kernel_size=(3, 3), stride=(1, 1), padding=(1, 1), bias=False)\n",
       "        (bn1): BatchNorm2d(512, eps=1e-05, momentum=0.1, affine=True, track_running_stats=True)\n",
       "        (relu): ReLU(inplace=True)\n",
       "        (conv2): Conv2d(512, 512, kernel_size=(3, 3), stride=(1, 1), padding=(1, 1), bias=False)\n",
       "        (bn2): BatchNorm2d(512, eps=1e-05, momentum=0.1, affine=True, track_running_stats=True)\n",
       "      )\n",
       "    )\n",
       "    (avgpool): AdaptiveAvgPool2d(output_size=(1, 1))\n",
       "    (fc): Sequential(\n",
       "      (0): Linear(in_features=512, out_features=120, bias=True)\n",
       "    )\n",
       "  )\n",
       ")"
      ]
     },
     "execution_count": 9,
     "metadata": {},
     "output_type": "execute_result"
    }
   ],
   "source": [
    "# 定義類神經網路模型\n",
    "class FeatureExtractor(nn.Module):\n",
    "    def __init__(self):\n",
    "        super(FeatureExtractor, self).__init__()\n",
    "        self.model = models.resnet18(pretrained=False)\n",
    "        self.model.fc = nn.Sequential() #將分類層置空，下面將改變我們的分類層\n",
    "        self.model.fc = nn.Sequential(\n",
    "            nn.Linear(512,120),\n",
    "        )\n",
    "    def forward(self, x):\n",
    "        out = self.model(x)\n",
    "        return out\n",
    "    \n",
    "new_model = FeatureExtractor().to(device)\n",
    "new_model"
   ]
  },
  {
   "cell_type": "code",
   "execution_count": 10,
   "id": "910226a6",
   "metadata": {},
   "outputs": [
    {
     "name": "stdout",
     "output_type": "stream",
     "text": [
      "Feature Extractor: [    0/60000]\n",
      "Feature Extractor: [25600/60000]\n",
      "Feature Extractor: [51200/60000]\n"
     ]
    }
   ],
   "source": [
    "features = []\n",
    "step = 64\n",
    "size = len(feature_dataloader.dataset)\n",
    "model.train()\n",
    "for batch, (X, y) in enumerate(feature_dataloader):\n",
    "    X = X.to(device)# 讀圖片跟labels\n",
    "    # Systematic Sampling\n",
    "    sX = X[:len(X)-1:step]\n",
    "    model.eval() # 測試模式，不做反向傳播\n",
    "    with torch.no_grad(): # 不需要計算梯度\n",
    "     # Compute prediction error\n",
    "        feature = new_model(sX)\n",
    "    if batch % 100 == 0: # 顯示進度條\n",
    "        current = batch * len(X)\n",
    "        print(f\"Feature Extractor: [{current:>5d}/{size:>5d}]\")   \n",
    "    # Convert to NumPy Array, Reshape it, and save it to features variabl\n",
    "    features.append(feature.cpu().detach().numpy())    "
   ]
  },
  {
   "cell_type": "code",
   "execution_count": 11,
   "id": "c4758b35",
   "metadata": {},
   "outputs": [],
   "source": [
    "# Convert to NumPy Array\n",
    "# 由於資料是不規則numpy因此會報錯，這裡因美觀我把它關掉\n",
    "np.warnings.filterwarnings('ignore', category = np.VisibleDeprecationWarning)\n",
    "featuresdata = np.array(features)"
   ]
  },
  {
   "cell_type": "code",
   "execution_count": 12,
   "id": "dd0d6c4c",
   "metadata": {},
   "outputs": [],
   "source": [
    "# 因為資料不平整，要用此方法去處理成一維numpy\n",
    "import itertools\n",
    "featureslist =list(itertools.chain(*featuresdata))"
   ]
  },
  {
   "cell_type": "code",
   "execution_count": 13,
   "id": "6e4444e8",
   "metadata": {},
   "outputs": [
    {
     "name": "stdout",
     "output_type": "stream",
     "text": [
      "Theoretical Value: 938\n",
      "Actual value: 938\n"
     ]
    }
   ],
   "source": [
    "# 驗證輸出的資料量是否正確\n",
    "# print(f\"batch_size/step: {batch_size/step}\",f\"\\n\")\n",
    "# print(f\"batch[0]: \",len(featuresdata[0]))\n",
    "print(f\"Theoretical Value: {len(featuresdata[0]) * (len(featuresdata)-1) + len(featuresdata[234])}\" )\n",
    "print(f\"Actual value: {len(featureslist)}\")"
   ]
  },
  {
   "cell_type": "code",
   "execution_count": 14,
   "id": "7296cc4a",
   "metadata": {},
   "outputs": [
    {
     "name": "stdout",
     "output_type": "stream",
     "text": [
      "Theoretical out_features: 120\n",
      "Actual out_features: 120\n"
     ]
    }
   ],
   "source": [
    "print(\"Theoretical out_features: 120\")\n",
    "print(f\"Actual out_features: {len(featureslist[0])}\")"
   ]
  },
  {
   "cell_type": "code",
   "execution_count": 15,
   "id": "cc555b5d",
   "metadata": {},
   "outputs": [],
   "source": [
    "#...Rnnking "
   ]
  },
  {
   "cell_type": "code",
   "execution_count": null,
   "id": "3553d746",
   "metadata": {},
   "outputs": [],
   "source": []
  },
  {
   "cell_type": "code",
   "execution_count": null,
   "id": "b0369772",
   "metadata": {},
   "outputs": [],
   "source": []
  },
  {
   "cell_type": "code",
   "execution_count": null,
   "id": "d0fb9125",
   "metadata": {},
   "outputs": [],
   "source": []
  },
  {
   "cell_type": "code",
   "execution_count": 16,
   "id": "f0eb4d94",
   "metadata": {},
   "outputs": [],
   "source": [
    "#0.001 => 0.00001?\n",
    "lr = 1e-3\n",
    "loss_fn = nn.CrossEntropyLoss()\n",
    "optimizer = torch.optim.Adam(model.parameters(), lr=lr)\n",
    "\n",
    "def train(dataloader, model, loss_fn, optimizer):\n",
    "    size = len(dataloader.dataset)\n",
    "    model.train()\n",
    "    for batch, (X, y) in enumerate(dataloader):\n",
    "        X, y = X.to(device), y.to(device)\n",
    "\n",
    "        # Compute prediction error\n",
    "        pred = model(X)\n",
    "        loss = loss_fn(pred, y)\n",
    "\n",
    "        # Backpropagation\n",
    "        optimizer.zero_grad()\n",
    "        loss.backward()\n",
    "        optimizer.step()\n",
    "\n",
    "        if batch % 100 == 0:\n",
    "            loss, current = loss.item(), batch * len(X)\n",
    "            print(f\"loss: {loss:>7f}  [{current:>5d}/{size:>5d}]\")\n",
    "\n",
    "def test(dataloader, model, loss_fn):\n",
    "    size = len(dataloader.dataset)\n",
    "    num_batches = len(dataloader)\n",
    "    model.eval()\n",
    "    test_loss, correct = 0, 0\n",
    "    with torch.no_grad():\n",
    "        for X, y in dataloader:\n",
    "            X, y = X.to(device), y.to(device)\n",
    "            pred = model(X)\n",
    "            test_loss += loss_fn(pred, y).item()\n",
    "            correct += (pred.argmax(1) == y).type(torch.float).sum().item()\n",
    "    test_loss /= num_batches\n",
    "    correct /= size\n",
    "    print(f\"Test Error: \\n Accuracy: {(100*correct):>0.1f}%, Avg loss: {test_loss:>8f} \\n\")"
   ]
  },
  {
   "cell_type": "code",
   "execution_count": 17,
   "id": "780cc906",
   "metadata": {
    "scrolled": true
   },
   "outputs": [
    {
     "name": "stdout",
     "output_type": "stream",
     "text": [
      "Epoch 1\n",
      "-------------------------------\n",
      "loss: 2.366558  [    0/60000]\n",
      "loss: 0.715047  [25600/60000]\n",
      "loss: 0.189875  [51200/60000]\n",
      "Test Error: \n",
      " Accuracy: 67.8%, Avg loss: 1.300368 \n",
      "\n",
      "Epoch 2\n",
      "-------------------------------\n",
      "loss: 0.125726  [    0/60000]\n",
      "loss: 0.144813  [25600/60000]\n",
      "loss: 0.051598  [51200/60000]\n",
      "Test Error: \n",
      " Accuracy: 98.7%, Avg loss: 0.063729 \n",
      "\n",
      "Epoch 3\n",
      "-------------------------------\n",
      "loss: 0.038285  [    0/60000]\n",
      "loss: 0.036592  [25600/60000]\n",
      "loss: 0.041391  [51200/60000]\n",
      "Test Error: \n",
      " Accuracy: 98.3%, Avg loss: 0.066752 \n",
      "\n",
      "Epoch 4\n",
      "-------------------------------\n",
      "loss: 0.055919  [    0/60000]\n",
      "loss: 0.089673  [25600/60000]\n",
      "loss: 0.042698  [51200/60000]\n",
      "Test Error: \n",
      " Accuracy: 99.2%, Avg loss: 0.037649 \n",
      "\n",
      "Epoch 5\n",
      "-------------------------------\n",
      "loss: 0.018915  [    0/60000]\n",
      "loss: 0.011399  [25600/60000]\n",
      "loss: 0.018717  [51200/60000]\n",
      "Test Error: \n",
      " Accuracy: 98.4%, Avg loss: 0.051917 \n",
      "\n",
      "Epoch 6\n",
      "-------------------------------\n",
      "loss: 0.007658  [    0/60000]\n",
      "loss: 0.046763  [25600/60000]\n",
      "loss: 0.041407  [51200/60000]\n",
      "Test Error: \n",
      " Accuracy: 98.8%, Avg loss: 0.043052 \n",
      "\n",
      "Epoch 7\n",
      "-------------------------------\n",
      "loss: 0.044754  [    0/60000]\n",
      "loss: 0.010784  [25600/60000]\n",
      "loss: 0.034170  [51200/60000]\n",
      "Test Error: \n",
      " Accuracy: 98.9%, Avg loss: 0.038627 \n",
      "\n",
      "Epoch 8\n",
      "-------------------------------\n",
      "loss: 0.035475  [    0/60000]\n",
      "loss: 0.008092  [25600/60000]\n",
      "loss: 0.040200  [51200/60000]\n",
      "Test Error: \n",
      " Accuracy: 98.8%, Avg loss: 0.038308 \n",
      "\n",
      "Epoch 9\n",
      "-------------------------------\n",
      "loss: 0.011406  [    0/60000]\n",
      "loss: 0.026389  [25600/60000]\n",
      "loss: 0.006735  [51200/60000]\n",
      "Test Error: \n",
      " Accuracy: 99.5%, Avg loss: 0.020583 \n",
      "\n",
      "Epoch 10\n",
      "-------------------------------\n",
      "loss: 0.034996  [    0/60000]\n",
      "loss: 0.018718  [25600/60000]\n",
      "loss: 0.016417  [51200/60000]\n",
      "Test Error: \n",
      " Accuracy: 98.5%, Avg loss: 0.054248 \n",
      "\n",
      "Done!\n"
     ]
    }
   ],
   "source": [
    "# 設定 epochs 數\n",
    "epochs = 10\n",
    "for t in range(epochs):\n",
    "    print(f\"Epoch {t+1}\\n-------------------------------\")\n",
    "    train(train_dataloader, model, loss_fn, optimizer)\n",
    "    test(test_dataloader, model, loss_fn)\n",
    "print(\"Done!\")"
   ]
  },
  {
   "cell_type": "code",
   "execution_count": 18,
   "id": "824f6bd9",
   "metadata": {},
   "outputs": [],
   "source": [
    "# ith torch.no_grad():\n",
    "#     # 取得一張測試圖片\n",
    "#     index = 256 # 圖片索引編號\n",
    "#     image, true_target = mnist_test[index] # 取得圖片與標註\n",
    "#     image = torch.unsqueeze(image, 0) # 多增加一個維度，轉為 batch 形式\n",
    "#     image = image.to(device)\n",
    "#     prediction = model(image)\n",
    "#     predicted_class = prediction.argmax()\n",
    "#     np_image = image[0].cpu().numpy().transpose((1, 2, 0))\n",
    "#     plt.imshow(np_image, cmap='gray')\n",
    "#     plt.title(f'Predicted: {predicted_class} / True Target: {true_target}')\n",
    "#     plt.show()"
   ]
  }
 ],
 "metadata": {
  "kernelspec": {
   "display_name": "Python 3 (ipykernel)",
   "language": "python",
   "name": "python3"
  },
  "language_info": {
   "codemirror_mode": {
    "name": "ipython",
    "version": 3
   },
   "file_extension": ".py",
   "mimetype": "text/x-python",
   "name": "python",
   "nbconvert_exporter": "python",
   "pygments_lexer": "ipython3",
   "version": "3.8.15"
  }
 },
 "nbformat": 4,
 "nbformat_minor": 5
}
