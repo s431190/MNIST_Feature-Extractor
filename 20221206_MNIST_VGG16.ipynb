{
 "cells": [
  {
   "cell_type": "markdown",
   "id": "9cd00283",
   "metadata": {},
   "source": [
    "# MNIST & VGG16 implementation\n",
    "\n",
    "\n",
    "I enlarged the MNIST dataset to 224 X 224 pixels.\n",
    "\n",
    "This is not an optimal neural network training method, just to fit the VGG16 input conditions.\n",
    "\n",
    "<center><img src=\"https://neurohive.io/wp-content/uploads/2018/11/vgg16-1-e1542731207177.png\" width=\"75%\" height=\"75%\"/></center>"
   ]
  },
  {
   "cell_type": "code",
   "execution_count": null,
   "id": "e3709e14",
   "metadata": {},
   "outputs": [],
   "source": [
    "import numpy as np\n",
    "import torch\n",
    "from torch import nn\n",
    "import torchvision.models as models\n",
    "from torchvision import datasets\n",
    "from torchvision import transforms\n",
    "from torch.utils.data import DataLoader\n",
    "# change the max. print value\n",
    "np.set_printoptions(threshold=1000000, suppress=True)"
   ]
  },
  {
   "cell_type": "code",
   "execution_count": null,
   "id": "5de38649",
   "metadata": {},
   "outputs": [],
   "source": [
    "# 固定亂數種子\n",
    "torch.manual_seed(1)\n",
    "torch.cuda.manual_seed_all(1)"
   ]
  },
  {
   "cell_type": "code",
   "execution_count": null,
   "id": "d2bc9a47",
   "metadata": {},
   "outputs": [],
   "source": [
    "# 數據預處理\n",
    "transform = transforms.Compose([\n",
    "#     transforms.RandomResizedCrop(224),# 對圖像進行隨機裁減\n",
    "#     transforms.RandomRotation(20),# 對圖像進行隨機旋轉\n",
    "#     transforms.RandomHorizontalFlip(p=0.5),# 對圖像進行隨機水平翻轉\n",
    "#     transforms.Grayscale(num_output_channels=1),\n",
    "    transforms.Resize((224,224)),\n",
    "    transforms.ToTensor()# 變成tensor格式\n",
    "#     transforms.Normalize(\n",
    "#         mean=[0.485, 0.456, 0.406],\n",
    "#         std=[0.229, 0.224, 0.225])\n",
    "]) # 數據增強\n",
    "\n",
    "# 讀取數據\n",
    "root = \"./data/custom/MNIST\"\n",
    "train_data = datasets.ImageFolder(root + \"/train\",transform)\n",
    "test_data = datasets.ImageFolder(root + \"/test\",transform)"
   ]
  },
  {
   "cell_type": "code",
   "execution_count": null,
   "id": "93d17513",
   "metadata": {},
   "outputs": [],
   "source": [
    "batch_size = 64\n",
    "train_dataloader = DataLoader(dataset=train_data, batch_size=batch_size, shuffle=True)\n",
    "test_dataloader = DataLoader(dataset=test_data, batch_size=batch_size, shuffle=True)\n",
    "feature_dataloader = DataLoader(dataset=train_data, batch_size=batch_size, shuffle=False)"
   ]
  },
  {
   "cell_type": "code",
   "execution_count": null,
   "id": "7819ce73",
   "metadata": {},
   "outputs": [],
   "source": [
    "classes = train_data.classes\n",
    "classes_index = train_data.class_to_idx\n",
    "print(classes)\n",
    "print(classes_index)"
   ]
  },
  {
   "cell_type": "code",
   "execution_count": null,
   "id": "27b9b30a",
   "metadata": {},
   "outputs": [],
   "source": [
    "# 測試CUDA能否使用\n",
    "device = \"cuda\" if torch.cuda.is_available() else \"cpu\"\n",
    "print(f\"Using {device} device\")"
   ]
  },
  {
   "cell_type": "code",
   "execution_count": null,
   "id": "df1fbace",
   "metadata": {},
   "outputs": [],
   "source": [
    "# 轉換成CUDA能讀的格式\n",
    "# generate data in parallel with PyTorch\n",
    "for X, y in test_dataloader:\n",
    "    print(f\"Shape of X [N, C, H, W]: {X.shape}\")\n",
    "    print(f\"Shape of y: {y.shape} {y.dtype}\")\n",
    "    break"
   ]
  },
  {
   "cell_type": "code",
   "execution_count": null,
   "id": "69aa00de",
   "metadata": {},
   "outputs": [],
   "source": [
    "class VGGNet(nn.Module):\n",
    "    def __init__(self, num_classes=10):\n",
    "        super(VGGNet, self).__init__()\n",
    "        net = models.vgg16(pretrained=True)\n",
    "        net.classifier = nn.Sequential()\n",
    "        self.features = net\n",
    "        self.classifier = nn.Sequential(\n",
    "                nn.Linear(512 * 7 * 7, 4096),\n",
    "                nn.ReLU(True),\n",
    "                nn.Dropout(),\n",
    "                nn.Linear(4096, 512),\n",
    "                nn.ReLU(True),\n",
    "                nn.Dropout(),\n",
    "                nn.Linear(512, num_classes),\n",
    "        )\n",
    "\n",
    "    def forward(self, x):\n",
    "        x = self.features(x)\n",
    "        x = x.view(x.size(0), -1)\n",
    "        x = self.classifier(x)\n",
    "        return x\n",
    "    \n",
    "model = VGGNet().to(device)"
   ]
  },
  {
   "cell_type": "code",
   "execution_count": null,
   "id": "2074e374",
   "metadata": {},
   "outputs": [],
   "source": [
    "model"
   ]
  },
  {
   "cell_type": "code",
   "execution_count": null,
   "id": "0879edbf",
   "metadata": {},
   "outputs": [],
   "source": [
    "class FeatureExtractor(nn.Module):\n",
    "    def __init__(self, model):\n",
    "        super(FeatureExtractor, self).__init__()\n",
    "        # Extract Net Feature Layers\n",
    "        self.features = list(model.features)\n",
    "        self.features = nn.Sequential(*self.features)\n",
    "        # Convert the image into one-dimensional vector\n",
    "        self.flatten = nn.Flatten()\n",
    "        # Extract the first part of fully-connected layer from Net\n",
    "        self.fc = model.classifier[0]\n",
    "    def forward(self, x):\n",
    "        # It will take the input 'x' until it returns the feature vector called 'out'\n",
    "        out = self.features(x)\n",
    "        out = self.flatten(out)\n",
    "        out = self.fc(out) \n",
    "        return out \n",
    "\n",
    "# Initialize the model\n",
    "vgg16_org = models.vgg16(pretrained=True)\n",
    "new_model = FeatureExtractor(vgg16_org).to(device)"
   ]
  },
  {
   "cell_type": "code",
   "execution_count": null,
   "id": "08b1cd0c",
   "metadata": {},
   "outputs": [],
   "source": [
    "new_model"
   ]
  },
  {
   "cell_type": "code",
   "execution_count": null,
   "id": "910226a6",
   "metadata": {},
   "outputs": [],
   "source": [
    "features = []\n",
    "step = 64\n",
    "size = len(feature_dataloader.dataset)\n",
    "model.train()\n",
    "for batch, (X, y) in enumerate(feature_dataloader):\n",
    "    X = X.to(device)# 讀圖片跟labels\n",
    "    # Systematic Sampling\n",
    "    sX = X[:len(X)-1:step]\n",
    "    model.eval() # 測試模式，不做反向傳播\n",
    "    with torch.no_grad(): # 不需要計算梯度\n",
    "     # Compute prediction error\n",
    "        feature = new_model(sX)\n",
    "    if batch % 100 == 0: # 顯示進度條\n",
    "        current = batch * len(X)\n",
    "        print(f\"Feature Extractor: [{current:>5d}/{size:>5d}]\")   \n",
    "    # Convert to NumPy Array, Reshape it, and save it to features variabl\n",
    "    features.append(feature.cpu().detach().numpy())    "
   ]
  },
  {
   "cell_type": "code",
   "execution_count": null,
   "id": "c4758b35",
   "metadata": {},
   "outputs": [],
   "source": [
    "# Convert to NumPy Array\n",
    "# 由於資料是不規則numpy因此會報錯，這裡因美觀我把它關掉\n",
    "np.warnings.filterwarnings('ignore', category = np.VisibleDeprecationWarning)\n",
    "featuresdata = np.array(features)"
   ]
  },
  {
   "cell_type": "code",
   "execution_count": null,
   "id": "dd0d6c4c",
   "metadata": {},
   "outputs": [],
   "source": [
    "# 因為資料不平整，要用此方法去處理成一維numpy\n",
    "import itertools\n",
    "featureslist =list(itertools.chain(*featuresdata))"
   ]
  },
  {
   "cell_type": "code",
   "execution_count": null,
   "id": "6e4444e8",
   "metadata": {},
   "outputs": [],
   "source": [
    "# 驗證輸出的資料量是否正確\n",
    "# print(f\"batch_size/step: {batch_size/step}\",f\"\\n\")\n",
    "# print(f\"batch[0]: \",len(featuresdata[0]))\n",
    "print(f\"Theoretical Value: {len(featuresdata[0]) * (len(featuresdata)-1) + len(featuresdata[234])}\" )\n",
    "print(f\"Actual value: {len(featureslist)}\")"
   ]
  },
  {
   "cell_type": "code",
   "execution_count": null,
   "id": "7296cc4a",
   "metadata": {},
   "outputs": [],
   "source": [
    "print(\"Theoretical out_features: 4096\")\n",
    "print(f\"Actual out_features: {len(featureslist[0])}\")"
   ]
  },
  {
   "cell_type": "code",
   "execution_count": null,
   "id": "cc555b5d",
   "metadata": {},
   "outputs": [],
   "source": [
    "#...Rnnking 4096 * 938"
   ]
  },
  {
   "cell_type": "code",
   "execution_count": null,
   "id": "3553d746",
   "metadata": {},
   "outputs": [],
   "source": []
  },
  {
   "cell_type": "code",
   "execution_count": null,
   "id": "b0369772",
   "metadata": {},
   "outputs": [],
   "source": []
  },
  {
   "cell_type": "code",
   "execution_count": null,
   "id": "8cc6dbba",
   "metadata": {},
   "outputs": [],
   "source": []
  },
  {
   "cell_type": "code",
   "execution_count": null,
   "id": "d0fb9125",
   "metadata": {},
   "outputs": [],
   "source": []
  },
  {
   "cell_type": "code",
   "execution_count": null,
   "id": "780cc906",
   "metadata": {},
   "outputs": [],
   "source": []
  },
  {
   "cell_type": "code",
   "execution_count": null,
   "id": "f0eb4d94",
   "metadata": {},
   "outputs": [],
   "source": [
    "lr = 1e-3\n",
    "loss_fn = nn.CrossEntropyLoss()\n",
    "optimizer = torch.optim.Adam(model.parameters(), lr=lr)\n",
    "\n",
    "def train(dataloader, model, loss_fn, optimizer):\n",
    "    size = len(dataloader.dataset)\n",
    "    model.train()\n",
    "    for batch, (X, y) in enumerate(dataloader):\n",
    "        X, y = X.to(device), y.to(device)\n",
    "\n",
    "        # Compute prediction error\n",
    "        pred = model(X)\n",
    "        loss = loss_fn(pred, y)\n",
    "\n",
    "        # Backpropagation\n",
    "        optimizer.zero_grad()\n",
    "        loss.backward()\n",
    "        optimizer.step()\n",
    "\n",
    "        if batch % 100 == 0:\n",
    "            loss, current = loss.item(), batch * len(X)\n",
    "            print(f\"loss: {loss:>7f}  [{current:>5d}/{size:>5d}]\")\n",
    "\n",
    "def test(dataloader, model, loss_fn):\n",
    "    size = len(dataloader.dataset)\n",
    "    num_batches = len(dataloader)\n",
    "    model.eval()\n",
    "    test_loss, correct = 0, 0\n",
    "    with torch.no_grad():\n",
    "        for X, y in dataloader:\n",
    "            X, y = X.to(device), y.to(device)\n",
    "            pred = model(X)\n",
    "            test_loss += loss_fn(pred, y).item()\n",
    "            correct += (pred.argmax(1) == y).type(torch.float).sum().item()\n",
    "    test_loss /= num_batches\n",
    "    correct /= size\n",
    "    print(f\"Test Error: \\n Accuracy: {(100*correct):>0.1f}%, Avg loss: {test_loss:>8f} \\n\")"
   ]
  },
  {
   "cell_type": "code",
   "execution_count": null,
   "id": "bd01d170",
   "metadata": {},
   "outputs": [],
   "source": [
    "epochs = 10\n",
    "for t in range(epochs):\n",
    "    print(f\"Epoch {t+1}\\n-------------------------------\")\n",
    "    train(train_dataloader, model, loss_fn, optimizer)\n",
    "    test(test_dataloader, model, loss_fn)\n",
    "print(\"Done!\")"
   ]
  },
  {
   "cell_type": "code",
   "execution_count": null,
   "id": "824f6bd9",
   "metadata": {},
   "outputs": [],
   "source": [
    "# ith torch.no_grad():\n",
    "#     # 取得一張測試圖片\n",
    "#     index = 256 # 圖片索引編號\n",
    "#     image, true_target = mnist_test[index] # 取得圖片與標註\n",
    "#     image = torch.unsqueeze(image, 0) # 多增加一個維度，轉為 batch 形式\n",
    "#     image = image.to(device)\n",
    "#     prediction = model(image)\n",
    "#     predicted_class = prediction.argmax()\n",
    "#     np_image = image[0].cpu().numpy().transpose((1, 2, 0))\n",
    "#     plt.imshow(np_image, cmap='gray')\n",
    "#     plt.title(f'Predicted: {predicted_class} / True Target: {true_target}')\n",
    "#     plt.show()"
   ]
  }
 ],
 "metadata": {
  "kernelspec": {
   "display_name": "Python 3 (ipykernel)",
   "language": "python",
   "name": "python3"
  },
  "language_info": {
   "codemirror_mode": {
    "name": "ipython",
    "version": 3
   },
   "file_extension": ".py",
   "mimetype": "text/x-python",
   "name": "python",
   "nbconvert_exporter": "python",
   "pygments_lexer": "ipython3",
   "version": "3.8.15"
  }
 },
 "nbformat": 4,
 "nbformat_minor": 5
}
