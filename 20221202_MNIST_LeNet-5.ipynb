{
 "cells": [
  {
   "cell_type": "markdown",
   "id": "9cd00283",
   "metadata": {},
   "source": [
    "# MNIST & LeNet-5 implementation\n",
    "\n",
    "手寫字體識別模型LeNet-5是最早的卷積神經網絡之一，由Yann LeCun團隊於1994年提出，LeNet5利用卷積、權值共享、池化等操作提取特徵以避免了大量的計算成本，最後再使用全連接神經網絡進行分類識別，\n",
    "LeNet5的網絡結構示意圖如下所示：\n",
    "\n",
    "<center><img src=\"https://blog.paperspace.com/content/images/size/w1000/2021/10/image-17.png\" width=\"75%\" height=\"75%\"/></center>"
   ]
  },
  {
   "cell_type": "code",
   "execution_count": 1,
   "id": "e3709e14",
   "metadata": {},
   "outputs": [],
   "source": [
    "import numpy as np\n",
    "import torch\n",
    "from torch import nn\n",
    "from torchvision import datasets\n",
    "from torchvision import transforms\n",
    "from torch.utils.data import DataLoader\n",
    "# change the max. print value\n",
    "np.set_printoptions(threshold=1000000, suppress=True)"
   ]
  },
  {
   "cell_type": "code",
   "execution_count": 2,
   "id": "5de38649",
   "metadata": {},
   "outputs": [],
   "source": [
    "# 固定亂數種子\n",
    "torch.manual_seed(1)\n",
    "torch.cuda.manual_seed_all(1)"
   ]
  },
  {
   "cell_type": "code",
   "execution_count": 3,
   "id": "d2bc9a47",
   "metadata": {},
   "outputs": [],
   "source": [
    "# 數據預處理\n",
    "transform = transforms.Compose([\n",
    "#     transforms.RandomResizedCrop(224),# 對圖像進行隨機裁減\n",
    "#     transforms.RandomRotation(20),# 對圖像進行隨機旋轉\n",
    "#     transforms.RandomHorizontalFlip(p=0.5),# 對圖像進行隨機水平翻轉\n",
    "    transforms.Grayscale(num_output_channels=1),\n",
    "    transforms.ToTensor()# 變成tensor格式\n",
    "#     transforms.Normalize(\n",
    "#         mean=[0.485, 0.456, 0.406],\n",
    "#         std=[0.229, 0.224, 0.225])\n",
    "]) # 數據增強\n",
    "\n",
    "# 讀取數據\n",
    "root = \"./data/custom/MNIST\"\n",
    "train_data = datasets.ImageFolder(root + \"/train\",transform)\n",
    "test_data = datasets.ImageFolder(root + \"/test\",transform)"
   ]
  },
  {
   "cell_type": "code",
   "execution_count": 4,
   "id": "93d17513",
   "metadata": {},
   "outputs": [],
   "source": [
    "batch_size = 256\n",
    "train_dataloader = DataLoader(dataset=train_data, batch_size=batch_size, shuffle=True)\n",
    "test_dataloader = DataLoader(dataset=test_data, batch_size=batch_size, shuffle=True)\n",
    "feature_dataloader = DataLoader(dataset=train_data, batch_size=batch_size, shuffle=False)"
   ]
  },
  {
   "cell_type": "code",
   "execution_count": 5,
   "id": "7819ce73",
   "metadata": {},
   "outputs": [
    {
     "name": "stdout",
     "output_type": "stream",
     "text": [
      "['0', '1', '2', '3', '4', '5', '6', '7', '8', '9']\n",
      "{'0': 0, '1': 1, '2': 2, '3': 3, '4': 4, '5': 5, '6': 6, '7': 7, '8': 8, '9': 9}\n"
     ]
    }
   ],
   "source": [
    "classes = train_data.classes\n",
    "classes_index = train_data.class_to_idx\n",
    "print(classes)\n",
    "print(classes_index)"
   ]
  },
  {
   "cell_type": "code",
   "execution_count": 6,
   "id": "27b9b30a",
   "metadata": {},
   "outputs": [
    {
     "name": "stdout",
     "output_type": "stream",
     "text": [
      "Using cuda device\n"
     ]
    }
   ],
   "source": [
    "# 測試CUDA能否使用\n",
    "device = \"cuda\" if torch.cuda.is_available() else \"cpu\"\n",
    "print(f\"Using {device} device\")"
   ]
  },
  {
   "cell_type": "code",
   "execution_count": 7,
   "id": "df1fbace",
   "metadata": {},
   "outputs": [
    {
     "name": "stdout",
     "output_type": "stream",
     "text": [
      "Shape of X [N, C, H, W]: torch.Size([256, 1, 28, 28])\n",
      "Shape of y: torch.Size([256]) torch.int64\n"
     ]
    }
   ],
   "source": [
    "# 轉換成CUDA能讀的格式\n",
    "# generate data in parallel with PyTorch\n",
    "for X, y in test_dataloader:\n",
    "    print(f\"Shape of X [N, C, H, W]: {X.shape}\")\n",
    "    print(f\"Shape of y: {y.shape} {y.dtype}\")\n",
    "    break"
   ]
  },
  {
   "cell_type": "code",
   "execution_count": 8,
   "id": "dffe0401",
   "metadata": {},
   "outputs": [],
   "source": [
    "class LeNet(nn.Module):\n",
    "    def __init__(self):\n",
    "        super(LeNet, self).__init__()\n",
    "        self.features = nn.Sequential(\n",
    "            # nn.Conv2d(1,6,5,1,2): 通道數，輸出數，捲積，步長，在圖片旁邊補0(幾圈)\n",
    "            nn.Conv2d(1,6,5,1,2), # C1:6@28*28\n",
    "            nn.ReLU(), \n",
    "            nn.MaxPool2d(2,2), # S2:6@14*14\n",
    "            nn.Conv2d(6,16,5), # C3:16@10*10\n",
    "            nn.ReLU(),\n",
    "            nn.MaxPool2d(2,2), # S4:16@5*5\n",
    "        )\n",
    "        self.classifier = nn.Sequential(\n",
    "            nn.Linear(16*5*5,120), # C5:120\n",
    "            nn.Sigmoid(),\n",
    "            nn.Linear(120,84), # F6:84\n",
    "            nn.Sigmoid(),\n",
    "            nn.Linear(84,10) # Output:10 (class[0]~[9])\n",
    "        )\n",
    "    def forward(self,x):\n",
    "        x = self.features(x)\n",
    "        x = x.view(x.size()[0],-1)\n",
    "        x = self.classifier(x)\n",
    "        return x"
   ]
  },
  {
   "cell_type": "code",
   "execution_count": 9,
   "id": "0879edbf",
   "metadata": {},
   "outputs": [],
   "source": [
    "class FeatureExtractor(nn.Module):\n",
    "    def __init__(self, model):\n",
    "        super(FeatureExtractor, self).__init__()\n",
    "        # Extract Net Feature Layers\n",
    "        self.features = list(model.features)\n",
    "        self.features = nn.Sequential(*self.features)\n",
    "        # Convert the image into one-dimensional vector\n",
    "        self.flatten = nn.Flatten()\n",
    "        # Extract the first part of fully-connected layer from Net\n",
    "        self.fc = model.classifier[0]\n",
    "    def forward(self, x):\n",
    "        # It will take the input 'x' until it returns the feature vector called 'out'\n",
    "        out = self.features(x)\n",
    "        out = self.flatten(out)\n",
    "        out = self.fc(out) \n",
    "        return out \n",
    "\n",
    "# Initialize the model\n",
    "model = LeNet().to(device)\n",
    "new_model = FeatureExtractor(model)\n",
    "\n",
    "# Change the device to GPU\n",
    "device = torch.device('cuda:0' if torch.cuda.is_available() else \"cpu\")\n",
    "new_model = new_model.to(device)"
   ]
  },
  {
   "cell_type": "code",
   "execution_count": 10,
   "id": "2074e374",
   "metadata": {},
   "outputs": [
    {
     "data": {
      "text/plain": [
       "LeNet(\n",
       "  (features): Sequential(\n",
       "    (0): Conv2d(1, 6, kernel_size=(5, 5), stride=(1, 1), padding=(2, 2))\n",
       "    (1): ReLU()\n",
       "    (2): MaxPool2d(kernel_size=2, stride=2, padding=0, dilation=1, ceil_mode=False)\n",
       "    (3): Conv2d(6, 16, kernel_size=(5, 5), stride=(1, 1))\n",
       "    (4): ReLU()\n",
       "    (5): MaxPool2d(kernel_size=2, stride=2, padding=0, dilation=1, ceil_mode=False)\n",
       "  )\n",
       "  (classifier): Sequential(\n",
       "    (0): Linear(in_features=400, out_features=120, bias=True)\n",
       "    (1): Sigmoid()\n",
       "    (2): Linear(in_features=120, out_features=84, bias=True)\n",
       "    (3): Sigmoid()\n",
       "    (4): Linear(in_features=84, out_features=10, bias=True)\n",
       "  )\n",
       ")"
      ]
     },
     "execution_count": 10,
     "metadata": {},
     "output_type": "execute_result"
    }
   ],
   "source": [
    "model"
   ]
  },
  {
   "cell_type": "code",
   "execution_count": 11,
   "id": "08b1cd0c",
   "metadata": {},
   "outputs": [
    {
     "data": {
      "text/plain": [
       "FeatureExtractor(\n",
       "  (features): Sequential(\n",
       "    (0): Conv2d(1, 6, kernel_size=(5, 5), stride=(1, 1), padding=(2, 2))\n",
       "    (1): ReLU()\n",
       "    (2): MaxPool2d(kernel_size=2, stride=2, padding=0, dilation=1, ceil_mode=False)\n",
       "    (3): Conv2d(6, 16, kernel_size=(5, 5), stride=(1, 1))\n",
       "    (4): ReLU()\n",
       "    (5): MaxPool2d(kernel_size=2, stride=2, padding=0, dilation=1, ceil_mode=False)\n",
       "  )\n",
       "  (flatten): Flatten(start_dim=1, end_dim=-1)\n",
       "  (fc): Linear(in_features=400, out_features=120, bias=True)\n",
       ")"
      ]
     },
     "execution_count": 11,
     "metadata": {},
     "output_type": "execute_result"
    }
   ],
   "source": [
    "new_model"
   ]
  },
  {
   "cell_type": "code",
   "execution_count": 12,
   "id": "910226a6",
   "metadata": {},
   "outputs": [
    {
     "name": "stdout",
     "output_type": "stream",
     "text": [
      "Feature Extractor: [    0/60000]\n",
      "Feature Extractor: [25600/60000]\n",
      "Feature Extractor: [51200/60000]\n"
     ]
    }
   ],
   "source": [
    "features = []\n",
    "step = 64\n",
    "size = len(feature_dataloader.dataset)\n",
    "model.train()\n",
    "for batch, (X, y) in enumerate(feature_dataloader):\n",
    "    X = X.to(device)# 讀圖片跟labels\n",
    "    # Systematic Sampling\n",
    "    sX = X[:len(X)-1:step]\n",
    "    model.eval() # 測試模式，不做反向傳播\n",
    "    with torch.no_grad(): # 不需要計算梯度\n",
    "     # Compute prediction error\n",
    "        feature = new_model(sX)\n",
    "    if batch % 100 == 0: # 顯示進度條\n",
    "        current = batch * len(X)\n",
    "        print(f\"Feature Extractor: [{current:>5d}/{size:>5d}]\")   \n",
    "    # Convert to NumPy Array, Reshape it, and save it to features variabl\n",
    "    features.append(feature.cpu().detach().numpy())    "
   ]
  },
  {
   "cell_type": "code",
   "execution_count": 13,
   "id": "c4758b35",
   "metadata": {},
   "outputs": [],
   "source": [
    "# Convert to NumPy Array\n",
    "# 由於資料是不規則numpy因此會報錯，這裡因美觀我把它關掉\n",
    "np.warnings.filterwarnings('ignore', category = np.VisibleDeprecationWarning)\n",
    "featuresdata = np.array(features)"
   ]
  },
  {
   "cell_type": "code",
   "execution_count": 14,
   "id": "dd0d6c4c",
   "metadata": {},
   "outputs": [],
   "source": [
    "# 因為資料不平整，要用此方法去處理成一維numpy\n",
    "import itertools\n",
    "featureslist =list(itertools.chain(*featuresdata))"
   ]
  },
  {
   "cell_type": "code",
   "execution_count": 15,
   "id": "6e4444e8",
   "metadata": {},
   "outputs": [
    {
     "name": "stdout",
     "output_type": "stream",
     "text": [
      "Theoretical Value: 938\n",
      "Actual value: 938\n"
     ]
    }
   ],
   "source": [
    "# 驗證輸出的資料量是否正確\n",
    "# print(f\"batch_size/step: {batch_size/step}\",f\"\\n\")\n",
    "# print(f\"batch[0]: \",len(featuresdata[0]))\n",
    "print(f\"Theoretical Value: {len(featuresdata[0]) * (len(featuresdata)-1) + len(featuresdata[234])}\" )\n",
    "print(f\"Actual value: {len(featureslist)}\")"
   ]
  },
  {
   "cell_type": "code",
   "execution_count": 16,
   "id": "7296cc4a",
   "metadata": {},
   "outputs": [
    {
     "name": "stdout",
     "output_type": "stream",
     "text": [
      "Theoretical out_features: 120\n",
      "Actual out_features: 120\n"
     ]
    }
   ],
   "source": [
    "print(\"Theoretical out_features: 120\")\n",
    "print(f\"Actual out_features: {len(featureslist[0])}\")"
   ]
  },
  {
   "cell_type": "code",
   "execution_count": null,
   "id": "cc555b5d",
   "metadata": {},
   "outputs": [],
   "source": [
    "#...Rnnking 120 * 938"
   ]
  },
  {
   "cell_type": "code",
   "execution_count": null,
   "id": "3553d746",
   "metadata": {},
   "outputs": [],
   "source": []
  },
  {
   "cell_type": "code",
   "execution_count": null,
   "id": "b0369772",
   "metadata": {},
   "outputs": [],
   "source": []
  },
  {
   "cell_type": "code",
   "execution_count": null,
   "id": "8cc6dbba",
   "metadata": {},
   "outputs": [],
   "source": []
  },
  {
   "cell_type": "code",
   "execution_count": null,
   "id": "d0fb9125",
   "metadata": {},
   "outputs": [],
   "source": []
  },
  {
   "cell_type": "code",
   "execution_count": null,
   "id": "780cc906",
   "metadata": {},
   "outputs": [],
   "source": []
  },
  {
   "cell_type": "code",
   "execution_count": 17,
   "id": "f0eb4d94",
   "metadata": {},
   "outputs": [],
   "source": [
    "lr = 1e-3\n",
    "loss_fn = nn.CrossEntropyLoss()\n",
    "optimizer = torch.optim.Adam(model.parameters(), lr=lr)\n",
    "\n",
    "def train(dataloader, model, loss_fn, optimizer):\n",
    "    size = len(dataloader.dataset)\n",
    "    model.train()\n",
    "    for batch, (X, y) in enumerate(dataloader):\n",
    "        X, y = X.to(device), y.to(device)\n",
    "\n",
    "        # Compute prediction error\n",
    "        pred = model(X)\n",
    "        loss = loss_fn(pred, y)\n",
    "\n",
    "        # Backpropagation\n",
    "        optimizer.zero_grad()\n",
    "        loss.backward()\n",
    "        optimizer.step()\n",
    "\n",
    "        if batch % 100 == 0:\n",
    "            loss, current = loss.item(), batch * len(X)\n",
    "            print(f\"loss: {loss:>7f}  [{current:>5d}/{size:>5d}]\")\n",
    "\n",
    "def test(dataloader, model, loss_fn):\n",
    "    size = len(dataloader.dataset)\n",
    "    num_batches = len(dataloader)\n",
    "    model.eval()\n",
    "    test_loss, correct = 0, 0\n",
    "    with torch.no_grad():\n",
    "        for X, y in dataloader:\n",
    "            X, y = X.to(device), y.to(device)\n",
    "            pred = model(X)\n",
    "            test_loss += loss_fn(pred, y).item()\n",
    "            correct += (pred.argmax(1) == y).type(torch.float).sum().item()\n",
    "    test_loss /= num_batches\n",
    "    correct /= size\n",
    "    print(f\"Test Error: \\n Accuracy: {(100*correct):>0.1f}%, Avg loss: {test_loss:>8f} \\n\")"
   ]
  },
  {
   "cell_type": "code",
   "execution_count": 18,
   "id": "bd01d170",
   "metadata": {},
   "outputs": [
    {
     "name": "stdout",
     "output_type": "stream",
     "text": [
      "Epoch 1\n",
      "-------------------------------\n",
      "loss: 2.316323  [    0/60000]\n",
      "loss: 0.961121  [25600/60000]\n",
      "loss: 0.338284  [51200/60000]\n",
      "Test Error: \n",
      " Accuracy: 93.9%, Avg loss: 0.285103 \n",
      "\n",
      "Epoch 2\n",
      "-------------------------------\n",
      "loss: 0.228322  [    0/60000]\n",
      "loss: 0.231327  [25600/60000]\n",
      "loss: 0.163052  [51200/60000]\n",
      "Test Error: \n",
      " Accuracy: 96.8%, Avg loss: 0.116410 \n",
      "\n",
      "Epoch 3\n",
      "-------------------------------\n",
      "loss: 0.081419  [    0/60000]\n",
      "loss: 0.077943  [25600/60000]\n",
      "loss: 0.057225  [51200/60000]\n",
      "Test Error: \n",
      " Accuracy: 97.8%, Avg loss: 0.079050 \n",
      "\n",
      "Epoch 4\n",
      "-------------------------------\n",
      "loss: 0.117068  [    0/60000]\n",
      "loss: 0.056564  [25600/60000]\n",
      "loss: 0.092247  [51200/60000]\n",
      "Test Error: \n",
      " Accuracy: 98.0%, Avg loss: 0.067666 \n",
      "\n",
      "Epoch 5\n",
      "-------------------------------\n",
      "loss: 0.069043  [    0/60000]\n",
      "loss: 0.036263  [25600/60000]\n",
      "loss: 0.050532  [51200/60000]\n",
      "Test Error: \n",
      " Accuracy: 98.3%, Avg loss: 0.055244 \n",
      "\n",
      "Epoch 6\n",
      "-------------------------------\n",
      "loss: 0.051971  [    0/60000]\n",
      "loss: 0.034004  [25600/60000]\n",
      "loss: 0.052139  [51200/60000]\n",
      "Test Error: \n",
      " Accuracy: 98.6%, Avg loss: 0.046882 \n",
      "\n",
      "Epoch 7\n",
      "-------------------------------\n",
      "loss: 0.053685  [    0/60000]\n",
      "loss: 0.033928  [25600/60000]\n",
      "loss: 0.062519  [51200/60000]\n",
      "Test Error: \n",
      " Accuracy: 98.8%, Avg loss: 0.042433 \n",
      "\n",
      "Epoch 8\n",
      "-------------------------------\n",
      "loss: 0.025814  [    0/60000]\n",
      "loss: 0.030947  [25600/60000]\n",
      "loss: 0.039762  [51200/60000]\n",
      "Test Error: \n",
      " Accuracy: 98.7%, Avg loss: 0.045250 \n",
      "\n",
      "Epoch 9\n",
      "-------------------------------\n",
      "loss: 0.017456  [    0/60000]\n",
      "loss: 0.043925  [25600/60000]\n",
      "loss: 0.045195  [51200/60000]\n",
      "Test Error: \n",
      " Accuracy: 98.8%, Avg loss: 0.036921 \n",
      "\n",
      "Epoch 10\n",
      "-------------------------------\n",
      "loss: 0.013027  [    0/60000]\n",
      "loss: 0.032754  [25600/60000]\n",
      "loss: 0.019765  [51200/60000]\n",
      "Test Error: \n",
      " Accuracy: 98.9%, Avg loss: 0.036720 \n",
      "\n",
      "Done!\n"
     ]
    }
   ],
   "source": [
    "epochs = 10\n",
    "for t in range(epochs):\n",
    "    print(f\"Epoch {t+1}\\n-------------------------------\")\n",
    "    train(train_dataloader, model, loss_fn, optimizer)\n",
    "    test(test_dataloader, model, loss_fn)\n",
    "print(\"Done!\")"
   ]
  },
  {
   "cell_type": "code",
   "execution_count": null,
   "id": "824f6bd9",
   "metadata": {},
   "outputs": [],
   "source": []
  }
 ],
 "metadata": {
  "kernelspec": {
   "display_name": "Python 3 (ipykernel)",
   "language": "python",
   "name": "python3"
  },
  "language_info": {
   "codemirror_mode": {
    "name": "ipython",
    "version": 3
   },
   "file_extension": ".py",
   "mimetype": "text/x-python",
   "name": "python",
   "nbconvert_exporter": "python",
   "pygments_lexer": "ipython3",
   "version": "3.8.15"
  }
 },
 "nbformat": 4,
 "nbformat_minor": 5
}
